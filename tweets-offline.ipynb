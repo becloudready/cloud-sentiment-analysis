{
 "cells": [
  {
   "cell_type": "code",
   "execution_count": 1,
   "metadata": {},
   "outputs": [
    {
     "name": "stderr",
     "output_type": "stream",
     "text": [
      "/Users/chandank/work/twitter-streaming/python/env/lib/python3.7/site-packages/ipykernel_launcher.py:9: FutureWarning: from_csv is deprecated. Please use read_csv(...) instead. Note that some of the default arguments are different, so please refer to the documentation for from_csv when changing your function calls\n",
      "  if __name__ == '__main__':\n"
     ]
    },
    {
     "name": "stdout",
     "output_type": "stream",
     "text": [
      "0    @Steve_Dangle What should be the nickname for ...\n",
      "1    Sadly I think even this is a bitgenerous https...\n",
      "2    RT @ItsDeanBlundell: The Toronto Maple Leafs S...\n",
      "3    \"marner is never going to be a top 3 forward w...\n",
      "4    RT @fcukyoongi: i wonder if namjoon scrapbooks...\n",
      "5    I count ~47 current NHL Dmen 23 years of age a...\n",
      "6    RT @prunedjoos: pens fans after a 5-0 loss to ...\n",
      "7    RT @fcukyoongi: i wonder if namjoon scrapbooks...\n",
      "8    RT @AdamCam69926043: Don't tell me God didn't ...\n",
      "9    RT @BrianWGR: #Sabres highest chance to win th...\n",
      "Name: text, dtype: object\n"
     ]
    },
    {
     "data": {
      "image/png": "[encoded data removed]",
      "text/plain": [
       "<Figure size 432x288 with 1 Axes>"
      ]
     },
     "metadata": {
      "needs_background": "light"
     },
     "output_type": "display_data"
    }
   ],
   "source": [
    "import numpy as np\n",
    "import pandas as pd\n",
    "from pandas.io.json import json_normalize\n",
    "%matplotlib inline\n",
    "import matplotlib.pyplot as plt\n",
    "from textblob import TextBlob\n",
    "\n",
    "\n",
    "df=pd.DataFrame.from_csv('tweets.csv')\n",
    "tweettext=df['text']\n",
    "\n",
    "wordlist=pd.DataFrame();\n",
    "\n",
    "polarity=[]\n",
    "subj=[]\n",
    "\n",
    "for t in tweettext:\n",
    "    tx= TextBlob(t)\n",
    "    polarity.append(tx.sentiment.polarity)\n",
    "    subj.append(tx.sentiment.subjectivity)\n",
    "\n",
    "print (tweettext)\n",
    "poltweet= pd.DataFrame({'polarity':polarity,'subjectivity':subj})\n",
    "poltweet.polarity.plot(title='Polarity')\n",
    "\n",
    "plt.show()"
   ]
  },
  {
   "cell_type": "code",
   "execution_count": null,
   "metadata": {},
   "outputs": [],
   "source": []
  },
  {
   "cell_type": "code",
   "execution_count": null,
   "metadata": {},
   "outputs": [],
   "source": []
  }
 ],
 "metadata": {
  "kernelspec": {
   "display_name": "Python 3",
   "language": "python",
   "name": "python3"
  },
  "language_info": {
   "codemirror_mode": {
    "name": "ipython",
    "version": 3
   },
   "file_extension": ".py",
   "mimetype": "text/x-python",
   "name": "python",
   "nbconvert_exporter": "python",
   "pygments_lexer": "ipython3",
   "version": "3.7.0"
  }
 },
 "nbformat": 4,
 "nbformat_minor": 2
}
