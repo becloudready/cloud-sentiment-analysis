{
 "cells": [
  {
   "cell_type": "code",
   "execution_count": 3,
   "metadata": {},
   "outputs": [
    {
     "name": "stdout",
     "output_type": "stream",
     "text": [
      "0    RT @LilNasX: nobody: \\n\\nnigga who smokes weed...\n",
      "1    RT @LilNasX: nobody: \\n\\nnigga who smokes weed...\n",
      "2    RT @LilNasX: nobody: \\n\\nnigga who smokes weed...\n",
      "3    RT @notthesamealy: i’m pro marijuana. but you ...\n",
      "4    RT @LilNasX: nobody: \\n\\nnigga who smokes weed...\n",
      "5    RT @trapgrampa: When u get pulled over with we...\n",
      "6    RT @LilNasX: nobody: \\n\\nnigga who smokes weed...\n",
      "7    RT @LilNasX: nobody: \\n\\nnigga who smokes weed...\n",
      "8    RT @ajnotsweett: How y’all niggas sell weed bu...\n",
      "9         RT @stoned2thabones: Smoke weed, drink water\n",
      "Name: text, dtype: object\n"
     ]
    },
    {
     "data": {
      "image/png": "[encoded data removed]",
      "text/plain": [
       "<Figure size 432x288 with 1 Axes>"
      ]
     },
     "metadata": {
      "needs_background": "light"
     },
     "output_type": "display_data"
    }
   ],
   "source": [
    "import libs.analyzer\n",
    "import libs.twitter\n",
    "from textblob import TextBlob\n",
    "%matplotlib inline\n",
    "        \n",
    "def analyze():\n",
    "    tweets = libs.twitter.twitter()\n",
    "    search_results = tweets.tweet_batch(\"meeto\",10)\n",
    "    a = libs.analyzer.analyzer()\n",
    "    a.analyze_df(search_results)\n",
    "    \n",
    "\n",
    "def main():\n",
    "    analyze()\n",
    "\n",
    "\n",
    "if __name__ == \"__main__\":\n",
    "    main()"
   ]
  },
  {
   "cell_type": "code",
   "execution_count": null,
   "metadata": {},
   "outputs": [],
   "source": []
  },
  {
   "cell_type": "code",
   "execution_count": null,
   "metadata": {},
   "outputs": [],
   "source": []
  },
  {
   "cell_type": "code",
   "execution_count": null,
   "metadata": {},
   "outputs": [],
   "source": []
  }
 ],
 "metadata": {
  "kernelspec": {
   "display_name": "Python 3",
   "language": "python",
   "name": "python3"
  },
  "language_info": {
   "codemirror_mode": {
    "name": "ipython",
    "version": 3
   },
   "file_extension": ".py",
   "mimetype": "text/x-python",
   "name": "python",
   "nbconvert_exporter": "python",
   "pygments_lexer": "ipython3",
   "version": "3.7.0"
  }
 },
 "nbformat": 4,
 "nbformat_minor": 2
}
