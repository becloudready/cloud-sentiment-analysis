{
 "cells": [
  {
   "cell_type": "code",
   "execution_count": 1,
   "metadata": {},
   "outputs": [
    {
     "name": "stdout",
     "output_type": "stream",
     "text": [
      "                                              tweets  Py_polarity  \\\n",
      "0  RT @funder: Retweet if you want to ruin Trump’...     0.200000   \n",
      "1  RT @Airvooocht: @realDonaldTrump Which Foundat...     0.143386   \n",
      "2  RT @JackPosobiec: Adam Schiff is using a commo...    -0.100000   \n",
      "3  @realDonaldTrump Today, Trump is officially vi...     0.000000   \n",
      "4  RT @Butch1717: WA State considers expanding Re...    -0.062500   \n",
      "5  RT @HuffPost: Alan Dershowitz, a Harvard law p...    -0.450000   \n",
      "6  RT @MirandaLHam: @KF1776FIKLE @Roondog56 @Wend...     0.000000   \n",
      "7  RT @ftbachicha: @kaitlancollins Interesting th...     0.233333   \n",
      "8  RT @RealKyleMorris: I’m old enough to remember...     0.050000   \n",
      "\n",
      "  aws_sentiment  azure_score  \n",
      "0       NEUTRAL     0.251200  \n",
      "1       NEUTRAL     0.830931  \n",
      "2       NEUTRAL     0.188354  \n",
      "3       NEUTRAL     0.500000  \n",
      "4       NEUTRAL     0.500000  \n",
      "5       NEUTRAL     0.221299  \n",
      "6       NEUTRAL     0.500000  \n",
      "7       NEUTRAL     0.837602  \n",
      "8       NEUTRAL     0.748866  \n"
     ]
    }
   ],
   "source": [
    "import libs.aws\n",
    "import libs.azure\n",
    "# import libs.gcp\n",
    "import libs.local\n",
    "import libs.twitter\n",
    "from textblob import TextBlob\n",
    "import json\n",
    "import pandas as pd\n",
    "import matplotlib.pyplot as plt\n",
    "\n",
    "def py_analyze(df):\n",
    "    a = libs.local.analyzer()\n",
    "    a.bulk_detect_sentiment(df)\n",
    "\n",
    "def aws_analyze(df):\n",
    "    a = libs.aws.aws_comp('us-east-1')\n",
    "    a.bulk_detect_sentiment(df)\n",
    "\n",
    "def azure_analyze(df):\n",
    "    a = libs.azure.azure()\n",
    "    a.bulk_detect_sentiment(df)\n",
    "\n",
    "def analyze():\n",
    "    tweets = libs.twitter.twitter()\n",
    "    search_results = tweets.tweet_batch(\"trump\",10)\n",
    "    data = []\n",
    "    df = pd.DataFrame(columns=['tweets'])\n",
    "    for num,tweet in enumerate(search_results['statuses']):\n",
    "        if tweet['user']['lang'] == 'en':\n",
    "            data.append(tweet['text'])\n",
    "    df['tweets'] = data\n",
    "    py_analyze(df)\n",
    "    aws_analyze(df)\n",
    "    azure_analyze(df)\n",
    "\n",
    "def main():\n",
    "    analyze()\n",
    "    \n",
    "\n",
    "\n",
    "if __name__ == \"__main__\":\n",
    "    main()"
   ]
  },
  {
   "cell_type": "code",
   "execution_count": null,
   "metadata": {},
   "outputs": [],
   "source": []
  }
 ],
 "metadata": {
  "kernelspec": {
   "display_name": "Python 3",
   "language": "python",
   "name": "python3"
  },
  "language_info": {
   "codemirror_mode": {
    "name": "ipython",
    "version": 3
   },
   "file_extension": ".py",
   "mimetype": "text/x-python",
   "name": "python",
   "nbconvert_exporter": "python",
   "pygments_lexer": "ipython3",
   "version": "3.7.0"
  }
 },
 "nbformat": 4,
 "nbformat_minor": 2
}
